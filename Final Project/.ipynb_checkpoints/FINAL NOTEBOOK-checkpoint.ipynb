{
 "cells": [
  {
   "cell_type": "markdown",
   "metadata": {},
   "source": [
    "# Training model for binary classification"
   ]
  },
  {
   "cell_type": "code",
   "execution_count": 1,
   "metadata": {},
   "outputs": [
    {
     "name": "stderr",
     "output_type": "stream",
     "text": [
      "C:\\ProgramData\\Anaconda3\\lib\\site-packages\\h5py\\__init__.py:34: FutureWarning: Conversion of the second argument of issubdtype from `float` to `np.floating` is deprecated. In future, it will be treated as `np.float64 == np.dtype(float).type`.\n",
      "  from ._conv import register_converters as _register_converters\n",
      "Using TensorFlow backend.\n"
     ]
    }
   ],
   "source": [
    "from __future__ import print_function\n",
    "import tensorflow as tf\n",
    "from keras.preprocessing.image import ImageDataGenerator, array_to_img, img_to_array, load_img\n",
    "from keras.models import Sequential\n",
    "from keras.layers import Conv2D, MaxPooling2D, Activation, Dropout, Flatten, Dense"
   ]
  },
  {
   "cell_type": "markdown",
   "metadata": {},
   "source": [
    "* Imported Sequential from keras.models, to initialise our neural network model as a sequential network. There are two basic ways of initialising a neural network, either by a sequence of layers or as a graph\n",
    "* Imported Conv2D from keras.layers, this is to perform the convolution operation i.e the first step of a CNN, on the training images. Since we are working on images here, which a basically 2 Dimensional arrays, we’re using Convolution 2-D\n",
    "* Imported MaxPooling2D from keras.layers, which is used for pooling operation, that is the step — 2 in the process of building a cnn.\n",
    "* Imported Flatten from keras.layers, which is used for Flattening. Flattening is the process of converting all the resultant 2 dimensional arrays into a single long continuous linear vector.\n",
    "* Imported Dense from keras.layers, which is used to perform the full connection of the neural network, which is the step 4 in the process of building a CNN\n",
    "\n"
   ]
  },
  {
   "cell_type": "code",
   "execution_count": 2,
   "metadata": {
    "collapsed": true
   },
   "outputs": [],
   "source": [
    "classifier = Sequential()    #Creating an object of the sequential class below\n"
   ]
  },
  {
   "cell_type": "markdown",
   "metadata": {},
   "source": [
    "* The Conv2D function is taking 4 arguments, the first is the number of filters i.e 32 here, the second argument is the shape each filter is going to be i.e 3x3 here, the third is the input shape and the type of image(RGB or Black and White)of each image,the fourth argument is the activation function we want to use, here ‘relu’ stands for a rectifier function.\n",
    "* This filter when scanned over the image will give out the probability of the image belonging to certain class. We can all this filter as feature identifier as it will enlighten certain features in the image and darkens the other parts of the image resulting in a feature map.\n",
    "* The activation function (here 'relu') acts as the feature rectifier where its non-linear operation will repalce all the negative values in the feature map to zero."
   ]
  },
  {
   "cell_type": "code",
   "execution_count": 3,
   "metadata": {
    "collapsed": true
   },
   "outputs": [],
   "source": [
    "classifier.add(Conv2D(32, (3, 3), padding='same', input_shape = (100, 100, 3), activation = 'relu'))\n"
   ]
  },
  {
   "cell_type": "markdown",
   "metadata": {},
   "source": [
    "* This layer increases the non-linear properties of the model. Ensuring that this model will be able to learn more complex features instead of just linear regression."
   ]
  },
  {
   "cell_type": "code",
   "execution_count": 4,
   "metadata": {
    "collapsed": true
   },
   "outputs": [],
   "source": [
    "classifier.add(Conv2D(32, (3, 3), activation='relu'))"
   ]
  },
  {
   "cell_type": "markdown",
   "metadata": {},
   "source": [
    "* Maxpooling layer will reduce the dimentionality of the feature map while retaining the important feature information. This reduces the computational complexity of the model. \n",
    "* 2x2 matrix we’ll have minimum pixel loss and get a precise region where the feature are located"
   ]
  },
  {
   "cell_type": "code",
   "execution_count": 5,
   "metadata": {
    "collapsed": true
   },
   "outputs": [],
   "source": [
    "\n",
    "classifier.add(MaxPooling2D(pool_size = (2, 2)))\n",
    "\n"
   ]
  },
  {
   "cell_type": "markdown",
   "metadata": {},
   "source": [
    "* Dropout layer discards certain amount of neurons from the previous layer ensuring that we avoid overfitting the model."
   ]
  },
  {
   "cell_type": "code",
   "execution_count": 6,
   "metadata": {
    "collapsed": true
   },
   "outputs": [],
   "source": [
    "classifier.add(Dropout(0.25))"
   ]
  },
  {
   "cell_type": "markdown",
   "metadata": {},
   "source": [
    "* Adding additional bundles of layers similar to above will help our model to detect more complex features which will improve the classification accuracy."
   ]
  },
  {
   "cell_type": "code",
   "execution_count": 7,
   "metadata": {
    "collapsed": true
   },
   "outputs": [],
   "source": [
    "classifier.add(Conv2D(64, (3, 3), padding='same', activation = 'relu'))\n",
    "classifier.add(Conv2D(64, (3, 3), activation='relu'))\n",
    "classifier.add(MaxPooling2D(pool_size = (2, 2)))\n",
    "classifier.add(Dropout(0.25))\n",
    "\n",
    "classifier.add(Conv2D(64, (3, 3), padding='same', activation = 'relu'))\n",
    "classifier.add(Conv2D(64, (3, 3), activation='relu'))\n",
    "classifier.add(MaxPooling2D(pool_size = (2, 2)))\n",
    "classifier.add(Dropout(0.25))"
   ]
  },
  {
   "cell_type": "markdown",
   "metadata": {},
   "source": [
    "* Flatten will flatten the feature map to one dimension\n",
    "* Then we add a fully connected layer which will convert our feature map to n-dimentional vector\n",
    "* Then we apply our final dropout layer."
   ]
  },
  {
   "cell_type": "code",
   "execution_count": 8,
   "metadata": {
    "collapsed": true
   },
   "outputs": [],
   "source": [
    "classifier.add(Flatten())\n",
    "classifier.add(Dense(units = 512, activation = 'relu'))\n",
    "classifier.add(Dropout(0.5))"
   ]
  },
  {
   "cell_type": "markdown",
   "metadata": {},
   "source": [
    "* Dense is the function to add a fully connected layer, ‘units’ is where we define the number of nodes that should be present in this hidden layer, these units value will be always between the number of input nodes and the output nodes\n",
    "* In the final dense(fully-connected) layer, we convert the vector map into the vector map with number of vectors equal to the number of classes our model needs to classify.\n",
    "* The activation function for last layer of the model will convert the vector map into the probability for the number of classes specified."
   ]
  },
  {
   "cell_type": "code",
   "execution_count": 9,
   "metadata": {
    "collapsed": true
   },
   "outputs": [],
   "source": [
    "classifier.add(Dense(2, activation='softmax'))"
   ]
  },
  {
   "cell_type": "markdown",
   "metadata": {},
   "source": [
    "* Now we compile with this model with a loss function which measures difference between the predictions and expectations\n",
    "* This loss propogates backwards (taking derivative of loss with respect to weights) updating weight values so that they change in the direction of the gradient that will minimize the loss in future.\n",
    "* The optimizer specified will perform gradient descend."
   ]
  },
  {
   "cell_type": "code",
   "execution_count": 10,
   "metadata": {
    "collapsed": true
   },
   "outputs": [],
   "source": [
    "classifier.compile(optimizer = 'rmsprop', loss = 'binary_crossentropy', metrics = ['accuracy'])"
   ]
  },
  {
   "cell_type": "markdown",
   "metadata": {},
   "source": [
    "* Then we do image preprocessing so that all the images we provide to model in the training phase would be of size 100x100"
   ]
  },
  {
   "cell_type": "code",
   "execution_count": 11,
   "metadata": {
    "scrolled": true
   },
   "outputs": [
    {
     "name": "stdout",
     "output_type": "stream",
     "text": [
      "Found 982 images belonging to 2 classes.\n",
      "Found 330 images belonging to 2 classes.\n"
     ]
    }
   ],
   "source": [
    "train_datagen = ImageDataGenerator(rescale = 1./255, shear_range = 0.2, zoom_range = 0.2, horizontal_flip = True)\n",
    "test_datagen = ImageDataGenerator(rescale = 1./255)\n",
    "training_set = train_datagen.flow_from_directory('Fruit_360/2/Training',\n",
    "                                                 target_size = (100, 100),\n",
    "                                                 batch_size = 32,\n",
    "                                                 class_mode = 'categorical')\n",
    "test_set = test_datagen.flow_from_directory('Fruit_360/2/Testing',\n",
    "                                            target_size = (100, 100), \n",
    "                                            batch_size = 32, \n",
    "                                            class_mode = 'categorical')"
   ]
  },
  {
   "cell_type": "code",
   "execution_count": 13,
   "metadata": {},
   "outputs": [
    {
     "name": "stdout",
     "output_type": "stream",
     "text": [
      "Epoch 1/5\n",
      "31/30 [==============================] - 4s 115ms/step - loss: 8.9501e-06 - acc: 1.0000 - val_loss: 1.3499e-07 - val_acc: 1.0000\n",
      "Epoch 2/5\n",
      "31/30 [==============================] - 3s 110ms/step - loss: 8.5817e-07 - acc: 1.0000 - val_loss: 1.0960e-07 - val_acc: 1.0000\n",
      "Epoch 3/5\n",
      "31/30 [==============================] - 3s 105ms/step - loss: 2.1597e-07 - acc: 1.0000 - val_loss: 1.0960e-07 - val_acc: 1.0000\n",
      "Epoch 4/5\n",
      "31/30 [==============================] - 3s 111ms/step - loss: 0.4019 - acc: 0.9637 - val_loss: 0.0055 - val_acc: 1.0000\n",
      "Epoch 5/5\n",
      "31/30 [==============================] - 3s 106ms/step - loss: 3.4840e-04 - acc: 1.0000 - val_loss: 6.0471e-06 - val_acc: 1.0000\n"
     ]
    },
    {
     "data": {
      "text/plain": [
       "<keras.callbacks.History at 0x1f0e5380780>"
      ]
     },
     "execution_count": 13,
     "metadata": {},
     "output_type": "execute_result"
    }
   ],
   "source": [
    "classifier.fit_generator(training_set,\n",
    "steps_per_epoch = 982/32,\n",
    "epochs = 5,\n",
    "validation_data = test_set,\n",
    "validation_steps = 330/32)"
   ]
  },
  {
   "cell_type": "markdown",
   "metadata": {},
   "source": [
    "* Function to identify the type of fruit and its count"
   ]
  },
  {
   "cell_type": "code",
   "execution_count": 24,
   "metadata": {},
   "outputs": [
    {
     "data": {
      "image/jpeg": "[encoded data removed]",
      "text/plain": [
       "<IPython.core.display.Image object>"
      ]
     },
     "metadata": {
      "image/jpeg": {
       "height": 100,
       "width": 100
      }
     },
     "output_type": "display_data"
    },
    {
     "name": "stdout",
     "output_type": "stream",
     "text": [
      "Banana\n"
     ]
    },
    {
     "data": {
      "image/jpeg": "[encoded data removed]",
      "text/plain": [
       "<IPython.core.display.Image object>"
      ]
     },
     "metadata": {
      "image/jpeg": {
       "height": 100,
       "width": 100
      }
     },
     "output_type": "display_data"
    },
    {
     "name": "stdout",
     "output_type": "stream",
     "text": [
      "Apple\n"
     ]
    },
    {
     "data": {
      "image/jpeg": "[encoded data removed]",
      "text/plain": [
       "<IPython.core.display.Image object>"
      ]
     },
     "metadata": {
      "image/jpeg": {
       "height": 100,
       "width": 100
      }
     },
     "output_type": "display_data"
    },
    {
     "name": "stdout",
     "output_type": "stream",
     "text": [
      "Apple\n"
     ]
    },
    {
     "data": {
      "image/jpeg": "[encoded data removed]",
      "text/plain": [
       "<IPython.core.display.Image object>"
      ]
     },
     "metadata": {
      "image/jpeg": {
       "height": 100,
       "width": 100
      }
     },
     "output_type": "display_data"
    },
    {
     "name": "stdout",
     "output_type": "stream",
     "text": [
      "Banana\n"
     ]
    },
    {
     "data": {
      "image/jpeg": "[encoded data removed]",
      "text/plain": [
       "<IPython.core.display.Image object>"
      ]
     },
     "metadata": {
      "image/jpeg": {
       "height": 100,
       "width": 100
      }
     },
     "output_type": "display_data"
    },
    {
     "name": "stdout",
     "output_type": "stream",
     "text": [
      "Apple\n"
     ]
    },
    {
     "data": {
      "image/jpeg": "[encoded data removed]",
      "text/plain": [
       "<IPython.core.display.Image object>"
      ]
     },
     "metadata": {
      "image/jpeg": {
       "height": 100,
       "width": 100
      }
     },
     "output_type": "display_data"
    },
    {
     "name": "stdout",
     "output_type": "stream",
     "text": [
      "Apple\n"
     ]
    },
    {
     "data": {
      "image/jpeg": "[encoded data removed]",
      "text/plain": [
       "<IPython.core.display.Image object>"
      ]
     },
     "metadata": {
      "image/jpeg": {
       "height": 100,
       "width": 100
      }
     },
     "output_type": "display_data"
    },
    {
     "name": "stdout",
     "output_type": "stream",
     "text": [
      "Banana\n"
     ]
    },
    {
     "data": {
      "image/jpeg": "[encoded data removed]",
      "text/plain": [
       "<IPython.core.display.Image object>"
      ]
     },
     "metadata": {
      "image/jpeg": {
       "height": 100,
       "width": 100
      }
     },
     "output_type": "display_data"
    },
    {
     "name": "stdout",
     "output_type": "stream",
     "text": [
      "Apple\n"
     ]
    },
    {
     "data": {
      "image/jpeg": "[encoded data removed]",
      "text/plain": [
       "<IPython.core.display.Image object>"
      ]
     },
     "metadata": {
      "image/jpeg": {
       "height": 100,
       "width": 100
      }
     },
     "output_type": "display_data"
    },
    {
     "name": "stdout",
     "output_type": "stream",
     "text": [
      "Banana\n"
     ]
    },
    {
     "data": {
      "image/jpeg": "[encoded data removed]",
      "text/plain": [
       "<IPython.core.display.Image object>"
      ]
     },
     "metadata": {
      "image/jpeg": {
       "height": 100,
       "width": 100
      }
     },
     "output_type": "display_data"
    },
    {
     "name": "stdout",
     "output_type": "stream",
     "text": [
      "Apple\n",
      "Number of Apples predicted:  6\n",
      "Number of Bananas predicted:  4\n"
     ]
    }
   ],
   "source": [
    "import numpy as np\n",
    "from IPython.display import Image\n",
    "from keras.preprocessing import image\n",
    "\n",
    "imageID = 1\n",
    "AppleCount=0\n",
    "BananaCount=0\n",
    "for i in range(10):\n",
    "\n",
    "    path = \"Fruit_360/2/val/\" + str(imageID) + \".jpg\"\n",
    "    imageID+=1\n",
    "    test_image = image.load_img(path, target_size = (100, 100))\n",
    "    test_image = image.img_to_array(test_image)\n",
    "    test_image = np.expand_dims(test_image, axis = 0)\n",
    "    result = classifier.predict(test_image)\n",
    "    training_set.class_indices\n",
    "    if result[0][0] == 1:\n",
    "        display(Image(filename = path, width=100, height=100))\n",
    "        prediction = 'Apple'\n",
    "        print(prediction)\n",
    "        AppleCount+=1\n",
    "        \n",
    "    elif result[0][0] == 0:\n",
    "        display(Image(filename = path, width=100, height=100))\n",
    "        prediction = 'Banana'\n",
    "        print(prediction)\n",
    "        BananaCount+=1\n",
    "\n",
    "print(\"Number of Apples predicted: \", AppleCount)\n",
    "print(\"Number of Bananas predicted: \", BananaCount)"
   ]
  },
  {
   "cell_type": "markdown",
   "metadata": {},
   "source": [
    "# Training for multiple classification with change in parameters"
   ]
  },
  {
   "cell_type": "code",
   "execution_count": 21,
   "metadata": {
    "collapsed": true
   },
   "outputs": [],
   "source": [
    "classifier3 = Sequential()   \n",
    "classifier3.add(Conv2D(32, (3, 3), padding='same', input_shape = (100, 100, 3), activation = 'relu'))\n",
    "classifier3.add(Conv2D(32, (3, 3), activation='relu'))\n",
    "classifier3.add(MaxPooling2D(pool_size = (2, 2)))\n",
    "classifier3.add(Dropout(0.25))\n",
    "\n",
    "classifier3.add(Conv2D(64, (3, 3), padding='same', activation = 'relu'))\n",
    "classifier3.add(Conv2D(64, (3, 3), activation='relu'))\n",
    "classifier3.add(MaxPooling2D(pool_size = (2, 2)))\n",
    "classifier3.add(Dropout(0.25))\n",
    "\n",
    "classifier3.add(Conv2D(64, (3, 3), padding='same', activation = 'relu'))\n",
    "classifier3.add(Conv2D(64, (3, 3), activation='relu'))\n",
    "classifier3.add(MaxPooling2D(pool_size = (2, 2)))\n",
    "classifier3.add(Dropout(0.25))\n",
    "\n",
    "classifier3.add(Flatten())\n",
    "classifier3.add(Dense(units = 512, activation = 'relu'))\n",
    "classifier3.add(Dropout(0.5))\n",
    "classifier3.add(Dense(60, activation='softmax'))\n",
    "classifier3.compile(optimizer = 'rmsprop', loss = 'categorical_crossentropy', metrics = ['accuracy'])"
   ]
  },
  {
   "cell_type": "code",
   "execution_count": 22,
   "metadata": {},
   "outputs": [
    {
     "name": "stdout",
     "output_type": "stream",
     "text": [
      "Found 28736 images belonging to 60 classes.\n",
      "Found 9673 images belonging to 60 classes.\n"
     ]
    }
   ],
   "source": [
    "train_datagen = ImageDataGenerator(rescale = 1./255, shear_range = 0.2, zoom_range = 0.2, horizontal_flip = True)\n",
    "test_datagen = ImageDataGenerator(rescale = 1./255)\n",
    "training_set = train_datagen.flow_from_directory('Fruit_360/60/Training',\n",
    "                                                 target_size = (100, 100),\n",
    "                                                 batch_size = 32,\n",
    "                                                 class_mode = 'categorical')\n",
    "test_set = test_datagen.flow_from_directory('Fruit_360/60/Testing',\n",
    "                                            target_size = (100, 100), \n",
    "                                            batch_size = 32, \n",
    "                                            class_mode = 'categorical')"
   ]
  },
  {
   "cell_type": "code",
   "execution_count": 23,
   "metadata": {},
   "outputs": [
    {
     "name": "stdout",
     "output_type": "stream",
     "text": [
      "Epoch 1/10\n",
      "898/898 [==============================] - 781s 870ms/step - loss: 1.4707 - acc: 0.5837 - val_loss: 0.3353 - val_acc: 0.8901\n",
      "Epoch 2/10\n",
      "898/898 [==============================] - 112s 125ms/step - loss: 0.2782 - acc: 0.9162 - val_loss: 0.1358 - val_acc: 0.9604\n",
      "Epoch 3/10\n",
      "898/898 [==============================] - 107s 119ms/step - loss: 0.1750 - acc: 0.9506 - val_loss: 0.1138 - val_acc: 0.9588\n",
      "Epoch 4/10\n",
      "898/898 [==============================] - 100s 112ms/step - loss: 0.1461 - acc: 0.9624 - val_loss: 0.1106 - val_acc: 0.9700\n",
      "Epoch 5/10\n",
      "898/898 [==============================] - 105s 117ms/step - loss: 0.1369 - acc: 0.9681 - val_loss: 0.1476 - val_acc: 0.9715\n",
      "Epoch 6/10\n",
      "898/898 [==============================] - 103s 115ms/step - loss: 0.1567 - acc: 0.9686 - val_loss: 0.6418 - val_acc: 0.9047\n",
      "Epoch 7/10\n",
      "898/898 [==============================] - 102s 114ms/step - loss: 0.1496 - acc: 0.9718 - val_loss: 0.1891 - val_acc: 0.9676\n",
      "Epoch 8/10\n",
      "898/898 [==============================] - 106s 118ms/step - loss: 0.1663 - acc: 0.9710 - val_loss: 0.2212 - val_acc: 0.9625\n",
      "Epoch 9/10\n",
      "898/898 [==============================] - 109s 121ms/step - loss: 0.1800 - acc: 0.9729 - val_loss: 0.2843 - val_acc: 0.9733\n",
      "Epoch 10/10\n",
      "898/898 [==============================] - 110s 123ms/step - loss: 0.2954 - acc: 0.9685 - val_loss: 1.1215 - val_acc: 0.9166\n"
     ]
    },
    {
     "data": {
      "text/plain": [
       "<keras.callbacks.History at 0x1f0d22d9080>"
      ]
     },
     "execution_count": 23,
     "metadata": {},
     "output_type": "execute_result"
    }
   ],
   "source": [
    "classifier3.fit_generator(training_set,\n",
    "steps_per_epoch = 28736/32,\n",
    "epochs = 10,\n",
    "validation_data = test_set,\n",
    "validation_steps = 9673/32)"
   ]
  },
  {
   "cell_type": "code",
   "execution_count": 25,
   "metadata": {},
   "outputs": [
    {
     "name": "stdout",
     "output_type": "stream",
     "text": [
      "_________________________________________________________________\n",
      "Layer (type)                 Output Shape              Param #   \n",
      "=================================================================\n",
      "conv2d_1 (Conv2D)            (None, 100, 100, 32)      896       \n",
      "_________________________________________________________________\n",
      "conv2d_2 (Conv2D)            (None, 98, 98, 32)        9248      \n",
      "_________________________________________________________________\n",
      "max_pooling2d_1 (MaxPooling2 (None, 49, 49, 32)        0         \n",
      "_________________________________________________________________\n",
      "dropout_1 (Dropout)          (None, 49, 49, 32)        0         \n",
      "_________________________________________________________________\n",
      "conv2d_3 (Conv2D)            (None, 49, 49, 64)        18496     \n",
      "_________________________________________________________________\n",
      "conv2d_4 (Conv2D)            (None, 47, 47, 64)        36928     \n",
      "_________________________________________________________________\n",
      "max_pooling2d_2 (MaxPooling2 (None, 23, 23, 64)        0         \n",
      "_________________________________________________________________\n",
      "dropout_2 (Dropout)          (None, 23, 23, 64)        0         \n",
      "_________________________________________________________________\n",
      "conv2d_5 (Conv2D)            (None, 23, 23, 64)        36928     \n",
      "_________________________________________________________________\n",
      "conv2d_6 (Conv2D)            (None, 21, 21, 64)        36928     \n",
      "_________________________________________________________________\n",
      "max_pooling2d_3 (MaxPooling2 (None, 10, 10, 64)        0         \n",
      "_________________________________________________________________\n",
      "dropout_3 (Dropout)          (None, 10, 10, 64)        0         \n",
      "_________________________________________________________________\n",
      "flatten_1 (Flatten)          (None, 6400)              0         \n",
      "_________________________________________________________________\n",
      "dense_1 (Dense)              (None, 512)               3277312   \n",
      "_________________________________________________________________\n",
      "dropout_4 (Dropout)          (None, 512)               0         \n",
      "_________________________________________________________________\n",
      "dense_2 (Dense)              (None, 2)                 1026      \n",
      "=================================================================\n",
      "Total params: 3,417,762\n",
      "Trainable params: 3,417,762\n",
      "Non-trainable params: 0\n",
      "_________________________________________________________________\n",
      "None\n"
     ]
    }
   ],
   "source": [
    "print (classifier.summary())"
   ]
  },
  {
   "cell_type": "code",
   "execution_count": 26,
   "metadata": {},
   "outputs": [
    {
     "name": "stdout",
     "output_type": "stream",
     "text": [
      "_________________________________________________________________\n",
      "Layer (type)                 Output Shape              Param #   \n",
      "=================================================================\n",
      "conv2d_7 (Conv2D)            (None, 100, 100, 32)      896       \n",
      "_________________________________________________________________\n",
      "conv2d_8 (Conv2D)            (None, 98, 98, 32)        9248      \n",
      "_________________________________________________________________\n",
      "max_pooling2d_4 (MaxPooling2 (None, 49, 49, 32)        0         \n",
      "_________________________________________________________________\n",
      "dropout_5 (Dropout)          (None, 49, 49, 32)        0         \n",
      "_________________________________________________________________\n",
      "conv2d_9 (Conv2D)            (None, 49, 49, 64)        18496     \n",
      "_________________________________________________________________\n",
      "conv2d_10 (Conv2D)           (None, 47, 47, 64)        36928     \n",
      "_________________________________________________________________\n",
      "max_pooling2d_5 (MaxPooling2 (None, 23, 23, 64)        0         \n",
      "_________________________________________________________________\n",
      "dropout_6 (Dropout)          (None, 23, 23, 64)        0         \n",
      "_________________________________________________________________\n",
      "conv2d_11 (Conv2D)           (None, 23, 23, 64)        36928     \n",
      "_________________________________________________________________\n",
      "conv2d_12 (Conv2D)           (None, 21, 21, 64)        36928     \n",
      "_________________________________________________________________\n",
      "max_pooling2d_6 (MaxPooling2 (None, 10, 10, 64)        0         \n",
      "_________________________________________________________________\n",
      "dropout_7 (Dropout)          (None, 10, 10, 64)        0         \n",
      "_________________________________________________________________\n",
      "flatten_2 (Flatten)          (None, 6400)              0         \n",
      "_________________________________________________________________\n",
      "dense_3 (Dense)              (None, 512)               3277312   \n",
      "_________________________________________________________________\n",
      "dropout_8 (Dropout)          (None, 512)               0         \n",
      "_________________________________________________________________\n",
      "dense_4 (Dense)              (None, 60)                30780     \n",
      "=================================================================\n",
      "Total params: 3,447,516\n",
      "Trainable params: 3,447,516\n",
      "Non-trainable params: 0\n",
      "_________________________________________________________________\n",
      "None\n"
     ]
    }
   ],
   "source": [
    "print (classifier3.summary())"
   ]
  },
  {
   "cell_type": "markdown",
   "metadata": {
    "collapsed": true
   },
   "source": [
    "# Dependencies for Object Detection:"
   ]
  },
  {
   "cell_type": "markdown",
   "metadata": {},
   "source": [
    "To successfully perform the object detection, we first need to install tensorflow for our python environment.\n",
    "\n",
    "*Tensorflow Object Detection API depends on the following libraries:*\n",
    "\n",
    "* Protobuf 2.\n",
    "* Python-tk\n",
    "* Pillow 1.0\n",
    "* lxml\n",
    "* tf Slim (which is included in the \"tensorflow/models/research/\" checkout)\n",
    "* Jupyter notebook\n",
    "* Keras\n",
    "* Matplotlib\n",
    "* Tensorflow\n",
    "* Cython\n",
    "* cocoapi\n",
    "* ssd\n",
    "* Pandas\n",
    "\n",
    "To install tensorflow:\n",
    "\n",
    "* For CPU\n",
    "\n",
    "pip install tensorflow\n",
    "\n",
    "* For GPU\n",
    "\n",
    "pip install tensorflow-gpu"
   ]
  },
  {
   "cell_type": "markdown",
   "metadata": {},
   "source": [
    "* Dataset used is scrapped image dataset from internet for object detection. The dataset contains images belonging to 10 different classes. These images are all labeled with all the labels stored in corrosponding .xml file for each image file."
   ]
  },
  {
   "cell_type": "markdown",
   "metadata": {},
   "source": [
    "# Protobuf Compilation"
   ]
  },
  {
   "cell_type": "markdown",
   "metadata": {},
   "source": [
    "* The Tensorflow Object Detection API uses Protobufs to configure model and training parameters. Before the framework can be used, the Protobuf libraries must be compiled. This should be done by running the following command from the tensorflow/models/research/ directory:\n",
    "\n",
    "        #From tensorflow/models/research/\n",
    "    \n",
    "        protoc object_detection/protos/*.proto --python_out=."
   ]
  },
  {
   "cell_type": "markdown",
   "metadata": {},
   "source": [
    "# Add Libraries to PYTHONPATH"
   ]
  },
  {
   "cell_type": "markdown",
   "metadata": {},
   "source": [
    "* When running locally, the tensorflow/models/research/ and slim directories should be appended to PYTHONPATH. This can be done by running the following from tensorflow/models/research/:\n",
    "\n",
    "        #From tensorflow/models/research/\n",
    "        \n",
    "        export PYTHONPATH=$PYTHONPATH:`pwd`:`pwd`/slim"
   ]
  },
  {
   "cell_type": "markdown",
   "metadata": {},
   "source": [
    "#  Testing the Installation"
   ]
  },
  {
   "cell_type": "markdown",
   "metadata": {},
   "source": [
    "* You can test that you have correctly installed the Tensorflow Object Detection\n",
    "API by running the following command:\n",
    "        \n",
    "        python object_detection/builders/model_builder_test.py"
   ]
  },
  {
   "cell_type": "markdown",
   "metadata": {},
   "source": [
    "# Configuring the Object Detection Training Pipeline "
   ]
  },
  {
   "cell_type": "markdown",
   "metadata": {},
   "source": [
    "* The Tensorflow Object Detection API uses protobuf files to configure the training and evaluation process. The schema for the training pipeline can be found in object_detection/protos/pipeline.proto.\n",
    "\n",
    "        A skeleton configuration file is shown below:\n",
    "        \n",
    "        model {\n",
    "                (... Add model config here...)\n",
    "              }\n",
    "\n",
    "        train_config :\n",
    "              {\n",
    "                (... Add train_config here...)\n",
    "              }\n",
    "\n",
    "        train_input_reader: \n",
    "              {\n",
    "                (... Add train_input configuration here...)\n",
    "              }\n",
    "\n",
    "        eval_config: \n",
    "              {\n",
    "                  \n",
    "              }\n",
    "\n",
    "       eval_input_reader: \n",
    "             {\n",
    "                (... Add eval_input configuration here...)\n",
    "             }"
   ]
  },
  {
   "cell_type": "markdown",
   "metadata": {},
   "source": [
    "# Defining Inputs"
   ]
  },
  {
   "cell_type": "markdown",
   "metadata": {},
   "source": [
    "* The Tensorflow Object Detection API accepts inputs in the TFRecord file format. Users must specify the locations of both the training and evaluation files. Additionally, label map should be specified , which define the mapping between a class id and class name. The label map should be identical between training and evaluation datasets.\n",
    "\n",
    "        An example input configuration looks as follows:\n",
    "        \n",
    "        tf_record_input_reader {\n",
    "                                  input_path: \"/usr/home/username/data/train.record\"\n",
    "                               }\n",
    "        label_map_path: \"/usr/home/username/data/label_map.pbtxt\""
   ]
  },
  {
   "cell_type": "markdown",
   "metadata": {},
   "source": [
    "# Preparing Inputs"
   ]
  },
  {
   "cell_type": "markdown",
   "metadata": {},
   "source": [
    "* Tensorflow Object Detection API reads data using the TFRecord file format."
   ]
  },
  {
   "cell_type": "markdown",
   "metadata": {},
   "source": [
    "# Generating the TFRecord files."
   ]
  },
  {
   "cell_type": "markdown",
   "metadata": {},
   "source": [
    "* Images are labelled using lblImg [https://github.com/tzutalin/labelImg] which is in xml format. \n",
    "* XML files are then converted to csv format using sml_to_csv.py [https://github.com/datitran/raccoon_dataset/blob/master/xml_to_csv.py]\n",
    "\n",
    "        Now the folder structure for object detection will look as follows"
   ]
  }
 ],
 "metadata": {
  "kernelspec": {
   "display_name": "Python 3",
   "language": "python",
   "name": "python3"
  },
  "language_info": {
   "codemirror_mode": {
    "name": "ipython",
    "version": 3
   },
   "file_extension": ".py",
   "mimetype": "text/x-python",
   "name": "python",
   "nbconvert_exporter": "python",
   "pygments_lexer": "ipython3",
   "version": "3.6.3"
  }
 },
 "nbformat": 4,
 "nbformat_minor": 2
}
